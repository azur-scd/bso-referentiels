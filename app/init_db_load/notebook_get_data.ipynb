{
 "cells": [
  {
   "cell_type": "code",
   "execution_count": 2,
   "metadata": {},
   "outputs": [],
   "source": [
    "import pandas as pd\n",
    "import requests\n",
    "from bs4 import BeautifulSoup\n",
    "import re\n",
    "import json\n",
    "import datetime\n",
    "from dotenv import dotenv_values\n",
    "from neomodel import (config, db, StructuredNode, StructuredRel,StringProperty, IntegerProperty, UniqueIdProperty, DateProperty, DateTimeProperty,RelationshipTo, RelationshipFrom, Q, Traversal, OUTGOING, INCOMING, EITHER)"
   ]
  },
  {
   "cell_type": "code",
   "execution_count": 3,
   "metadata": {},
   "outputs": [],
   "source": [
    "env = dotenv_values(\"../.env\")\n",
    "#-----Neo4j database----- #\n",
    "config.DATABASE_URL = env[\"NEO4J_BOLT_URL\"]\n",
    "\n",
    "class SubclassRelationship(StructuredRel):\n",
    "    \"\"\"\n",
    "    A very simple relationship between two BasePersons that simply\n",
    "    records the date at which an acquaintance was established.\n",
    "    \"\"\"\n",
    "    on_date = DateProperty(default = datetime.datetime.now)\n",
    "\n",
    "class SameasRelationship(StructuredRel):\n",
    "    \"\"\"\n",
    "    A very simple relationship between two BasePersons that simply\n",
    "    records the date at which an acquaintance was established.\n",
    "    \"\"\"\n",
    "    on_date = DateProperty(default = datetime.datetime.now)\n",
    "\n",
    "class DeweyDomain(StructuredNode):\n",
    "    _id = UniqueIdProperty()\n",
    "    meta_id = IntegerProperty(index=True,default=0)\n",
    "    classe =  StringProperty(unique_index=True,required=True)\n",
    "    name = StringProperty(unique_index=True,required=True)\n",
    "    dewey_has_subclass = RelationshipTo(\"DeweyDomain\", \"HAS_SUBCLASS\", model = SubclassRelationship)\n",
    "    dewey_sameas_hal = RelationshipFrom(\"HalDomain\", \"SAME_AS\", model = SameasRelationship)\n",
    "    dewey_sameas_bso = RelationshipFrom(\"BsoDomain\", \"SAME_AS\", model = SameasRelationship)\n",
    "    def to_json(self):\n",
    "        return {\n",
    "        \"_id\": self._id,\n",
    "        \"meta_id\": self.meta_id,\n",
    "        \"classe\": self.classe,\n",
    "        \"name\": self.name,\n",
    "        \"group\": \"dewey\"\n",
    "      }\n",
    "    def post_save(self):\n",
    "        \"\"\"\n",
    "        The hook methods pre_save and post_save are available on StructuredRel models. They are executed when calling save on the object directly or when creating a new relationship via connect.\n",
    "        \"\"\"\n",
    "        print(self)\n",
    "\n",
    "dewey_all_definition = dict(node_class=DeweyDomain, direction=EITHER,\n",
    "                  relation_type=None, model=None)\n",
    "dewey_sub_definition = dict(node_class=DeweyDomain, direction=OUTGOING,\n",
    "                  relation_type='HAS_SUBCLASS', model=SubclassRelationship)\n",
    "dewey_sameas_definition = dict(node_class=DeweyDomain, direction=INCOMING,\n",
    "                  relation_type='SAME_AS', model=SameasRelationship)\n",
    "\n",
    "class BsoDomain(StructuredNode):\n",
    "    _id = UniqueIdProperty()\n",
    "    meta_id = IntegerProperty(index=True,default=0)\n",
    "    name = StringProperty(unique_index=True,required=True)\n",
    "    bso_sameas_dewey = RelationshipTo(\"DeweyDomain\", \"SAME_AS\", model = SameasRelationship)\n",
    "    def to_json(self):\n",
    "        return {\n",
    "        \"_id\": self._id,\n",
    "        \"meta_id\": self.meta_id,\n",
    "        \"name\": self.name,\n",
    "        \"group\": \"hal\"\n",
    "      }\n",
    "\n",
    "class HalDomain(StructuredNode):\n",
    "    _id = UniqueIdProperty()\n",
    "    meta_id = IntegerProperty(index=True,default=0)\n",
    "    docid = StringProperty(unique_index=True,required=True)\n",
    "    name = StringProperty(unique_index=True,required=True)\n",
    "    code = StringProperty(unique_index=True,required=True)\n",
    "    level = IntegerProperty(index=True,required=True)\n",
    "    parent_id = IntegerProperty(index=True)\n",
    "    hal_has_subclass = RelationshipTo(\"HalDomain\", \"HAS_SUBCLASS\", model = SubclassRelationship)\n",
    "    hal_sameas_dewey = RelationshipTo(\"DeweyDomain\", \"SAME_AS\", model = SameasRelationship)\n",
    "    def to_json(self):\n",
    "        return {\n",
    "        \"_id\": self._id,\n",
    "        \"meta_id\": self.meta_id,\n",
    "        \"docid\": self.docid,\n",
    "        \"name\": self.name,\n",
    "        \"code\": self.code,\n",
    "        \"level\": self.level,\n",
    "        \"parent_id\": self.parent_id,\n",
    "        \"group\": \"bso\"\n",
    "      }\n",
    "\n",
    "hal_all_definition = dict(node_class=HalDomain, direction=EITHER,\n",
    "                  relation_type=None, model=None)\n",
    "hal_sub_definition = dict(node_class=HalDomain, direction=OUTGOING,\n",
    "                  relation_type='HAS_SUBCLASS', model=SubclassRelationship)\n",
    "hal_sameas_definition = dict(node_class=HalDomain, direction=OUTGOING,\n",
    "                  relation_type='SAME_AS', model=SameasRelationship)"
   ]
  },
  {
   "cell_type": "markdown",
   "metadata": {},
   "source": [
    "# Fonctions de récupération des données des 3 référentiels Dewey, Hal et BSO"
   ]
  },
  {
   "cell_type": "markdown",
   "metadata": {},
   "source": [
    "## Dewey"
   ]
  },
  {
   "cell_type": "markdown",
   "metadata": {},
   "source": [
    "### Source temporaire thèses Abes (Dewey partielle)"
   ]
  },
  {
   "cell_type": "code",
   "execution_count": 43,
   "metadata": {},
   "outputs": [],
   "source": [
    "def  scrapping_oai_sets_dewey():\n",
    "    url = \"https://www.theses.fr/schemas/tef/recommandation/oai_sets.html\"\n",
    "    resp = requests.get(url).text  # ou f = http.request('GET', url).data\n",
    "    soup = BeautifulSoup(resp, features=\"lxml\")\n",
    "    oai_list = []\n",
    "    for row in soup.findAll(\"table\")[0].findAll(\"tr\"):\n",
    "        label = re.sub('<!--.*-->|\\r|\\n', '', str(row.findAll(\"td\")[0].get_text(strip=True)), flags=re.DOTALL)\n",
    "        label = re.sub('\\s{2,}|&nbsp;', ' ', label)\n",
    "        oai_list.append(\n",
    "            {\n",
    "                \"label\": label,\n",
    "                \"code\": row.findAll(\"td\")[1].get_text(strip=True),\n",
    "            }\n",
    "        )\n",
    "    df = pd.DataFrame(oai_list[1:])\n",
    "    df.to_csv(\"data/dewey_abes.csv\", sep=\",\", index=False, encoding='utf8')\n",
    "\n",
    "scrapping_oai_sets_dewey()"
   ]
  },
  {
   "cell_type": "markdown",
   "metadata": {},
   "source": [
    "### Wikipedia (Dewey complète)"
   ]
  },
  {
   "cell_type": "code",
   "execution_count": 4,
   "metadata": {},
   "outputs": [],
   "source": [
    "main_classes = ['000','100','200','300','400','500','600','700','800','900']"
   ]
  },
  {
   "cell_type": "code",
   "execution_count": 5,
   "metadata": {},
   "outputs": [],
   "source": [
    "def scrapping_wikipedia():\n",
    "    url = \"https://fr.wikipedia.org/wiki/Liste_des_classes_de_la_Classification_d%C3%A9cimale_de_Dewey\"\n",
    "    resp = requests.get(url).text  # ou f = http.request('GET', url).data\n",
    "    soup = BeautifulSoup(resp, features=\"lxml\")\n",
    "    class_list = []\n",
    "    for row in soup.findAll(\"span\", {\"class\": \"mw-headline\"}):\n",
    "        s = row.get_text(strip=True)\n",
    "        if s[0:6] == \"Classe\":\n",
    "            class_list.append(\n",
    "            {\n",
    "                \"code\": s[6:10].lstrip(),\n",
    "                \"label\": s[12:].lstrip(),\n",
    "            }\n",
    "            )\n",
    "    for row in soup.findAll(\"b\")[1:]:\n",
    "        s = row.get_text(strip=True)\n",
    "        if s[0:3] not in main_classes:\n",
    "            class_list.append(\n",
    "            {\n",
    "                \"code\": s[0:3].lstrip(),\n",
    "                \"label\": s[3:].lstrip(),\n",
    "            }\n",
    "            )\n",
    "    df = pd.DataFrame(class_list)\n",
    "    df.to_csv(\"data/dewey_wikipedia.csv\", sep=\",\", index=False, encoding='utf8')\n",
    "            \n",
    "scrapping_wikipedia()"
   ]
  },
  {
   "cell_type": "markdown",
   "metadata": {},
   "source": [
    "### Source Hal"
   ]
  },
  {
   "cell_type": "code",
   "execution_count": null,
   "metadata": {},
   "outputs": [],
   "source": [
    "def get_hal_domains():\n",
    "    \"\"\"\n",
    "    \n",
    "    \"\"\"\n",
    "    url = 'http://api.archives-ouvertes.fr/ref/domain/?q=*:*'\n",
    "    params = {'fl': 'docid,code_s,level_i,parent_i,label_s','rows': 400}\n",
    "    resp = requests.get(url,params=params).text\n",
    "    result = []\n",
    "    if json.loads(resp)['response']['docs']:\n",
    "        data = json.loads(resp)['response']['docs']\n",
    "        for node in data:\n",
    "            if not('parent_i' in node):\n",
    "                parent_id = 0\n",
    "            else:\n",
    "                parent_id = node['parent_i']\n",
    "            print(node)\n",
    "            result.append({\"docid\": node['docid'], \"level\": node['level_i'],\"parent_id\": parent_id, \"code\": node['code_s'], \"label\": node['label_s']})\n",
    "    else:\n",
    "        pass\n",
    "    # dedup in case of duplicate relatioships\n",
    "    df = pd.DataFrame(result)\n",
    "    df.to_csv(\"data/hal_domains.csv\", sep=\",\", index=False, encoding='utf8')\n",
    "\n",
    "get_hal_domains()"
   ]
  },
  {
   "cell_type": "markdown",
   "metadata": {},
   "source": [
    "### Source BSO"
   ]
  },
  {
   "cell_type": "markdown",
   "metadata": {},
   "source": [
    "Harvest done in a Colab Notebook [https://colab.research.google.com/drive/1uwS7CVt8pUhq8be-QpVS2qSE8s5YaZSA](https://colab.research.google.com/drive/1uwS7CVt8pUhq8be-QpVS2qSE8s5YaZSA).\n",
    "\n",
    "The resulting bso_classification categories are manually reported in a dict :"
   ]
  },
  {
   "cell_type": "code",
   "execution_count": 12,
   "metadata": {},
   "outputs": [],
   "source": [
    "dict_bso_classification = [{'label': 'Medical research'},{'label': 'Biology (fond.)'},{'label': 'Social sciences'},{'label': 'Earth, Ecology, Energy and applied biology'},\n",
    "                           {'label': 'Chemistry'},{'label': 'Physical sciences, Astronomy'},{'label': 'Computer and information sciences'},{'label': 'Humanities'},{'label': 'Engineering'},{'label': 'Mathematics'}]"
   ]
  },
  {
   "cell_type": "markdown",
   "metadata": {},
   "source": [
    "# Populate the db with Dewey classes"
   ]
  },
  {
   "cell_type": "markdown",
   "metadata": {},
   "source": [
    "## Dewey Referentiel data"
   ]
  },
  {
   "cell_type": "markdown",
   "metadata": {},
   "source": [
    "### Load data"
   ]
  },
  {
   "cell_type": "code",
   "execution_count": 6,
   "metadata": {},
   "outputs": [],
   "source": [
    "dict_dewey = pd.read_csv(\"data/dewey_wikipedia.csv\",sep=\",\",encoding=\"utf-8\", dtype={\"code\": str, \"label\": str}).to_dict(orient='records')\n",
    "main_classes = ['000','100','200','300','400','500','600','700','800','900']"
   ]
  },
  {
   "cell_type": "markdown",
   "metadata": {},
   "source": [
    "### Create nodes"
   ]
  },
  {
   "cell_type": "code",
   "execution_count": 7,
   "metadata": {},
   "outputs": [
    {
     "name": "stdout",
     "output_type": "stream",
     "text": [
      "{'meta_id': 0, 'classe': '000', 'name': 'Informatique, information, ouvrages généraux', 'id': 0}\n",
      "{'meta_id': 0, 'classe': '100', 'name': 'Philosophie,ParapsychologieetOccultisme,Psychologie', 'id': 1}\n",
      "{'meta_id': 0, 'classe': '200', 'name': 'Religions', 'id': 2}\n",
      "{'meta_id': 0, 'classe': '300', 'name': 'Sciences sociales', 'id': 3}\n",
      "{'meta_id': 0, 'classe': '400', 'name': 'Langues', 'id': 4}\n",
      "{'meta_id': 0, 'classe': '500', 'name': 'Sciencesde la nature etMathématiques', 'id': 5}\n",
      "{'meta_id': 0, 'classe': '600', 'name': 'Technologie (Sciences appliquées)', 'id': 6}\n",
      "{'meta_id': 0, 'classe': '700', 'name': 'Arts,LoisirsetSports', 'id': 7}\n",
      "{'meta_id': 0, 'classe': '800', 'name': 'Littérature(Belles-Lettres) et techniques d’écriture', 'id': 8}\n",
      "{'meta_id': 0, 'classe': '900', 'name': 'Géographie,Histoireet disciplines auxiliaires', 'id': 9}\n",
      "{'meta_id': 0, 'classe': '010', 'name': 'Bibliographies', 'id': 10}\n",
      "{'meta_id': 0, 'classe': '020', 'name': \"Sciences de l'information et des bibliothèques\", 'id': 11}\n",
      "{'meta_id': 0, 'classe': '030', 'name': 'Encyclopédies générales', 'id': 12}\n",
      "{'meta_id': 0, 'classe': '040', 'name': '[Vacant]', 'id': 13}\n",
      "{'meta_id': 0, 'classe': '050', 'name': 'Publications en série d’ordre général', 'id': 14}\n",
      "{'meta_id': 0, 'classe': '060', 'name': 'Organisations générales et muséologie', 'id': 15}\n",
      "{'meta_id': 0, 'classe': '070', 'name': 'Médias documentaires, journalisme, édition', 'id': 16}\n",
      "{'meta_id': 0, 'classe': '080', 'name': 'Recueils généraux', 'id': 17}\n",
      "{'meta_id': 0, 'classe': '090', 'name': 'Manuscrits, livres rares, autres documents imprimés rares', 'id': 18}\n",
      "{'meta_id': 0, 'classe': '110', 'name': 'Métaphysique', 'id': 19}\n",
      "{'meta_id': 0, 'classe': '120', 'name': 'Épistémologie, causalité, finalité, genre humain', 'id': 20}\n",
      "{'meta_id': 0, 'classe': '130', 'name': 'Parapsychologie et occultisme', 'id': 21}\n",
      "{'meta_id': 0, 'classe': '140', 'name': 'Les divers systèmes et écoles philosophiques', 'id': 22}\n",
      "{'meta_id': 0, 'classe': '150', 'name': 'Psychologie', 'id': 23}\n",
      "{'meta_id': 0, 'classe': '160', 'name': 'Logique', 'id': 24}\n",
      "{'meta_id': 0, 'classe': '170', 'name': 'Éthique', 'id': 25}\n",
      "{'meta_id': 0, 'classe': '180', 'name': 'Philosophie antique, médiévale, orientale', 'id': 26}\n",
      "{'meta_id': 0, 'classe': '190', 'name': 'Philosophie occidentale contemporaine et autres philosophies non orientales', 'id': 27}\n",
      "{'meta_id': 0, 'classe': '210', 'name': 'Philosophieet théorie de lareligion', 'id': 28}\n",
      "{'meta_id': 0, 'classe': '220', 'name': 'Bible[5]', 'id': 29}\n",
      "{'meta_id': 0, 'classe': '230', 'name': 'Christianisme.Théologiechrétienne[5]', 'id': 30}\n",
      "{'meta_id': 0, 'classe': '240', 'name': 'Théologie morale et spirituelle chrétiennes[5]', 'id': 31}\n",
      "{'meta_id': 0, 'classe': '250', 'name': 'Égliseschrétiennes locales etordres religieuxchrétiens[5]', 'id': 32}\n",
      "{'meta_id': 0, 'classe': '260', 'name': 'Théologiechrétienne et société etEcclésiologie[5]', 'id': 33}\n",
      "{'meta_id': 0, 'classe': '270', 'name': 'Histoire et géographie duchristianismeet de l’Église chrétienne[5]', 'id': 34}\n",
      "{'meta_id': 0, 'classe': '280', 'name': \"Confessions et sectes de l'Église chrétienne\", 'id': 35}\n",
      "{'meta_id': 0, 'classe': '290', 'name': 'Autres religions', 'id': 36}\n",
      "{'meta_id': 0, 'classe': '310', 'name': 'Statistiquesgénérales', 'id': 37}\n",
      "{'meta_id': 0, 'classe': '320', 'name': 'Science politique', 'id': 38}\n",
      "{'meta_id': 0, 'classe': '330', 'name': 'Économie', 'id': 39}\n",
      "{'meta_id': 0, 'classe': '340', 'name': 'Droit', 'id': 40}\n",
      "{'meta_id': 0, 'classe': '350', 'name': 'Administration publique. Art etscience militaire', 'id': 41}\n",
      "{'meta_id': 0, 'classe': '360', 'name': 'Problèmes et services sociaux. Associations', 'id': 42}\n",
      "{'meta_id': 0, 'classe': '370', 'name': 'Éducation,enseignement', 'id': 43}\n",
      "{'meta_id': 0, 'classe': '380', 'name': 'Commerce, communications, transports', 'id': 44}\n",
      "{'meta_id': 0, 'classe': '390', 'name': 'Coutumes,savoir-vivre,folklore', 'id': 45}\n",
      "{'meta_id': 0, 'classe': '410', 'name': 'Linguistiquegénérale', 'id': 46}\n",
      "{'meta_id': 0, 'classe': '420', 'name': 'Langue anglaise. Anglo-saxon', 'id': 47}\n",
      "{'meta_id': 0, 'classe': '430', 'name': 'Langues germaniques.Allemand', 'id': 48}\n",
      "{'meta_id': 0, 'classe': '440', 'name': 'Langues romanes.Français', 'id': 49}\n",
      "{'meta_id': 0, 'classe': '450', 'name': 'Italien,sarde,dalmate,roumain,langues rhéto-romanes', 'id': 50}\n",
      "{'meta_id': 0, 'classe': '460', 'name': 'Languesespagnoleetportugaise', 'id': 51}\n",
      "{'meta_id': 0, 'classe': '470', 'name': 'Langues italiques.Latin', 'id': 52}\n",
      "{'meta_id': 0, 'classe': '480', 'name': 'Langues helléniques.Grec classique', 'id': 53}\n",
      "{'meta_id': 0, 'classe': '490', 'name': 'Autreslangues', 'id': 54}\n",
      "{'meta_id': 0, 'classe': '510', 'name': 'Mathématiques', 'id': 55}\n",
      "{'meta_id': 0, 'classe': '520', 'name': 'Astronomieet sciences connexes', 'id': 56}\n",
      "{'meta_id': 0, 'classe': '530', 'name': 'Physique', 'id': 57}\n",
      "{'meta_id': 0, 'classe': '540', 'name': 'Chimieet sciences connexes', 'id': 58}\n",
      "{'meta_id': 0, 'classe': '550', 'name': 'Sciences de la Terre', 'id': 59}\n",
      "{'meta_id': 0, 'classe': '560', 'name': 'Paléontologie.Paléozoologie', 'id': 60}\n",
      "{'meta_id': 0, 'classe': '570', 'name': 'Sciences de la vie.Biologie', 'id': 61}\n",
      "{'meta_id': 0, 'classe': '580', 'name': 'Plantes.Botanique', 'id': 62}\n",
      "{'meta_id': 0, 'classe': '590', 'name': 'Animaux.Zoologie', 'id': 63}\n",
      "{'meta_id': 0, 'classe': '610', 'name': 'Sciences médicales. Médecine', 'id': 64}\n",
      "{'meta_id': 0, 'classe': '620', 'name': 'Art de l’ingénieuret activités connexes', 'id': 65}\n",
      "{'meta_id': 0, 'classe': '630', 'name': 'Agronomie,agricultureet activités connexes', 'id': 66}\n",
      "{'meta_id': 0, 'classe': '640', 'name': 'Économie domestique(arts ménagers). Vie familiale', 'id': 67}\n",
      "{'meta_id': 0, 'classe': '650', 'name': \"Gestion de l'entreprise et services auxiliaires\", 'id': 68}\n",
      "{'meta_id': 0, 'classe': '660', 'name': 'Génie chimique(chimie industrielle) et techniques connexes', 'id': 69}\n",
      "{'meta_id': 0, 'classe': '670', 'name': 'Fabrication industrielle', 'id': 70}\n",
      "{'meta_id': 0, 'classe': '680', 'name': 'Fabrications de produits à usages particuliers', 'id': 71}\n",
      "{'meta_id': 0, 'classe': '690', 'name': 'Bâtiments', 'id': 72}\n",
      "{'meta_id': 0, 'classe': '710', 'name': 'Urbanisme. Art du paysage', 'id': 73}\n",
      "{'meta_id': 0, 'classe': '720', 'name': 'Architecture', 'id': 74}\n",
      "{'meta_id': 0, 'classe': '730', 'name': 'Arts plastiques.Sculpture', 'id': 75}\n",
      "{'meta_id': 0, 'classe': '740', 'name': 'Dessin.Arts décoratifs', 'id': 76}\n",
      "{'meta_id': 0, 'classe': '750', 'name': 'Lapeintureet lespeintures', 'id': 77}\n",
      "{'meta_id': 0, 'classe': '760', 'name': 'Arts graphiques. Lagravureet les gravures', 'id': 78}\n",
      "{'meta_id': 0, 'classe': '770', 'name': 'Photographieet photographies', 'id': 79}\n",
      "{'meta_id': 0, 'classe': '780', 'name': 'Musique', 'id': 80}\n",
      "{'meta_id': 0, 'classe': '790', 'name': 'Loisirsetarts du spectacle.Sports', 'id': 81}\n",
      "{'meta_id': 0, 'classe': '810', 'name': 'Littérature américaine de langue anglaise', 'id': 82}\n",
      "{'meta_id': 0, 'classe': '820', 'name': 'Littératures anglaise et anglo-saxonne', 'id': 83}\n",
      "{'meta_id': 0, 'classe': '830', 'name': 'Littérature des langues germaniques. Littérature allemande', 'id': 84}\n",
      "{'meta_id': 0, 'classe': '840', 'name': 'Littérature des langues romanes.Littérature française', 'id': 85}\n",
      "{'meta_id': 0, 'classe': '850', 'name': 'Littératures italienne, roumaine,rhéto-romane', 'id': 86}\n",
      "{'meta_id': 0, 'classe': '860', 'name': 'Littératures espagnole et portugaise', 'id': 87}\n",
      "{'meta_id': 0, 'classe': '870', 'name': 'Littératures des langues italiques. Littérature latine', 'id': 88}\n",
      "{'meta_id': 0, 'classe': '880', 'name': 'Littératures des langues helléniques. Littérature grecque classique', 'id': 89}\n",
      "{'meta_id': 0, 'classe': '890', 'name': 'Littératures des autres langues', 'id': 90}\n",
      "{'meta_id': 0, 'classe': '910', 'name': 'Géographieetvoyages', 'id': 91}\n",
      "{'meta_id': 0, 'classe': '920', 'name': 'Biographie, généalogie, emblèmes, insignes', 'id': 92}\n",
      "{'meta_id': 0, 'classe': '930', 'name': 'Histoire générale du monde ancien', 'id': 93}\n",
      "{'meta_id': 0, 'classe': '940', 'name': \"Histoire générale de l’Europe. Europe de l'Ouest\", 'id': 94}\n",
      "{'meta_id': 0, 'classe': '950', 'name': 'Histoire générale de l’Asie. Orient. Extrême-Orient', 'id': 95}\n",
      "{'meta_id': 0, 'classe': '960', 'name': 'Histoire générale de l’Afrique', 'id': 96}\n",
      "{'meta_id': 0, 'classe': '970', 'name': 'Histoire générale de l’Amérique du Nord', 'id': 97}\n",
      "{'meta_id': 0, 'classe': '980', 'name': 'Histoire générale de l’Amérique du Sud', 'id': 98}\n",
      "{'meta_id': 0, 'classe': '990', 'name': 'Histoire générale des autres pays du monde. Océanie', 'id': 99}\n"
     ]
    }
   ],
   "source": [
    "for rows in dict_dewey:\n",
    "    DeweyDomain(classe=str(rows['code']), name=str(rows['label'])).save()"
   ]
  },
  {
   "cell_type": "markdown",
   "metadata": {},
   "source": [
    "### Create subclass relationships"
   ]
  },
  {
   "cell_type": "code",
   "execution_count": 8,
   "metadata": {},
   "outputs": [],
   "source": [
    "for c in main_classes:\n",
    "    main = DeweyDomain.nodes.get(classe=c)\n",
    "    sub = DeweyDomain.nodes.filter(Q(classe__startswith = main.classe[0:1]), Q(classe__ne = main.classe))\n",
    "    for x in sub:\n",
    "        main.dewey_has_subclass.connect(x)"
   ]
  },
  {
   "cell_type": "markdown",
   "metadata": {},
   "source": [
    "## Hal referentiel data"
   ]
  },
  {
   "cell_type": "markdown",
   "metadata": {},
   "source": [
    "### Load data"
   ]
  },
  {
   "cell_type": "code",
   "execution_count": 9,
   "metadata": {},
   "outputs": [],
   "source": [
    "dict_hal = pd.read_csv(\"data/hal_domains.csv\",sep=\",\",encoding=\"utf-8\").to_dict(orient='records')"
   ]
  },
  {
   "cell_type": "markdown",
   "metadata": {},
   "source": [
    "### Create nodes"
   ]
  },
  {
   "cell_type": "code",
   "execution_count": 10,
   "metadata": {},
   "outputs": [],
   "source": [
    "for rows in dict_hal:\n",
    "    HalDomain(docid=rows['docid'], name=rows['label'].split(\"=\")[1],code=rows['code'],level=rows[\"level\"],parent_id=rows['parent_id']).save()"
   ]
  },
  {
   "cell_type": "markdown",
   "metadata": {},
   "source": [
    "### Create relationships"
   ]
  },
  {
   "cell_type": "code",
   "execution_count": 11,
   "metadata": {},
   "outputs": [],
   "source": [
    "sub_levels_all = HalDomain.nodes.filter(level__ne=0)\n",
    "for x in sub_levels_all:\n",
    "    current_level =  HalDomain.nodes.get(docid=x.docid)\n",
    "    top_level = HalDomain.nodes.get(docid=x.parent_id)\n",
    "    top_level.hal_has_subclass.connect(current_level)"
   ]
  },
  {
   "cell_type": "markdown",
   "metadata": {},
   "source": [
    "## BSO referentiel"
   ]
  },
  {
   "cell_type": "code",
   "execution_count": 13,
   "metadata": {},
   "outputs": [],
   "source": [
    "for rows in dict_bso_classification:\n",
    "    b = BsoDomain(name=rows['label']).save()   "
   ]
  },
  {
   "cell_type": "markdown",
   "metadata": {},
   "source": [
    "## Add a meta_id to every node to be requested bu the neomodel libraries's methods"
   ]
  },
  {
   "cell_type": "code",
   "execution_count": 14,
   "metadata": {},
   "outputs": [],
   "source": [
    "Z = db.cypher_query(\"match (n) set n.meta_id = id(n) return n\")"
   ]
  },
  {
   "cell_type": "markdown",
   "metadata": {},
   "source": [
    " # Resulting graph"
   ]
  },
  {
   "cell_type": "markdown",
   "metadata": {},
   "source": [
    "![\"neo4j_screenshot\"](../static/img/neo4j_screenshot.png)"
   ]
  },
  {
   "cell_type": "markdown",
   "metadata": {},
   "source": [
    "# Graph request examples"
   ]
  },
  {
   "cell_type": "markdown",
   "metadata": {},
   "source": [
    "## Get a specific node by id"
   ]
  },
  {
   "cell_type": "code",
   "execution_count": 14,
   "metadata": {},
   "outputs": [
    {
     "data": {
      "text/plain": [
       "<DeweyDomain: {'meta_id': 5, 'classe': '500', 'name': 'Sciencesde la nature etMathématiques', 'id': 5}>"
      ]
     },
     "execution_count": 14,
     "metadata": {},
     "output_type": "execute_result"
    }
   ],
   "source": [
    "dewey_node = DeweyDomain.nodes.get(meta_id=5)\n",
    "dewey_node"
   ]
  },
  {
   "cell_type": "markdown",
   "metadata": {},
   "source": [
    "## Traversal HAS_SUBCLASS from dewey nodes"
   ]
  },
  {
   "cell_type": "code",
   "execution_count": null,
   "metadata": {},
   "outputs": [],
   "source": [
    "dewey_sub_definition = dict(node_class=DeweyDomain, direction=OUTGOING,\n",
    "                  relation_type='HAS_SUBCLASS', model=SubclassRelationship)"
   ]
  },
  {
   "cell_type": "markdown",
   "metadata": {},
   "source": [
    "### Starting from a specific node"
   ]
  },
  {
   "cell_type": "code",
   "execution_count": 4,
   "metadata": {},
   "outputs": [
    {
     "name": "stdout",
     "output_type": "stream",
     "text": [
      "[<DeweyDomain: {'id': 77, 'meta_id': 77, 'classe': '796', 'name': 'Sport'}>, <DeweyDomain: {'id': 76, 'meta_id': 76, 'classe': '790', 'name': 'Arts du spectacle, loisirs'}>, <DeweyDomain: {'id': 75, 'meta_id': 75, 'classe': '780', 'name': 'Musique'}>, <DeweyDomain: {'id': 74, 'meta_id': 74, 'classe': '770', 'name': 'Photographie et les photographies, art numérique'}>, <DeweyDomain: {'id': 73, 'meta_id': 73, 'classe': '760', 'name': 'Arts graphiques'}>, <DeweyDomain: {'id': 72, 'meta_id': 72, 'classe': '750', 'name': 'Peinture'}>, <DeweyDomain: {'id': 71, 'meta_id': 71, 'classe': '740', 'name': 'Dessin. Arts décoratifs'}>, <DeweyDomain: {'id': 70, 'meta_id': 70, 'classe': '730', 'name': 'Arts plastiques. Sculpture'}>, <DeweyDomain: {'id': 69, 'meta_id': 69, 'classe': '720', 'name': 'Architecture'}>, <DeweyDomain: {'id': 68, 'meta_id': 68, 'classe': '710', 'name': 'Urbanisme'}>]\n"
     ]
    }
   ],
   "source": [
    "dewey_node_700 = DeweyDomain.nodes.get(classe=700)\n",
    "relations_traversal = Traversal(dewey_node_700, DeweyDomain.__label__,\n",
    "                                dewey_sub_definition)\n",
    "all_700_relations = relations_traversal.all()\n",
    "print(all_700_relations)"
   ]
  },
  {
   "cell_type": "code",
   "execution_count": 13,
   "metadata": {},
   "outputs": [
    {
     "name": "stdout",
     "output_type": "stream",
     "text": [
      "[<DeweyDomain: {'id': 4, 'meta_id': 4, 'classe': '060', 'name': 'Organisations générales et muséologie'}>]\n"
     ]
    }
   ],
   "source": [
    "hal_node_108 = HalDomain.nodes.get(meta_id=108)\n",
    "print(hal_node_108.hal_sameas_dewey.all())"
   ]
  },
  {
   "cell_type": "markdown",
   "metadata": {},
   "source": [
    "### Retrieve all subgraph"
   ]
  },
  {
   "cell_type": "code",
   "execution_count": null,
   "metadata": {},
   "outputs": [],
   "source": [
    "all_dewey_nodes = DeweyDomain.nodes.all()\n",
    "for x in all_dewey_nodes:\n",
    "    relations_traversal = Traversal(x, DeweyDomain.__label__,\n",
    "                                dewey_all_definition) \n",
    "    if relations_traversal:\n",
    "        print(x,relations_traversal.all())  "
   ]
  },
  {
   "cell_type": "code",
   "execution_count": null,
   "metadata": {},
   "outputs": [],
   "source": [
    "all_hal_nodes = HalDomain.nodes.all()\n",
    "for x in all_hal_nodes:\n",
    "    relations_traversal = Traversal(x, HalDomain.__label__,\n",
    "                                hal_all_definition) \n",
    "    if relations_traversal:\n",
    "        print(x,relations_traversal.all()) "
   ]
  }
 ],
 "metadata": {
  "interpreter": {
   "hash": "de5f18143760dddb8a620c28ec28c10561ed4123aa4da0faeb450b395d82ec6e"
  },
  "kernelspec": {
   "display_name": "venv_domains",
   "language": "python",
   "name": "venv_domains"
  },
  "language_info": {
   "codemirror_mode": {
    "name": "ipython",
    "version": 3
   },
   "file_extension": ".py",
   "mimetype": "text/x-python",
   "name": "python",
   "nbconvert_exporter": "python",
   "pygments_lexer": "ipython3",
   "version": "3.9.7"
  }
 },
 "nbformat": 4,
 "nbformat_minor": 4
}

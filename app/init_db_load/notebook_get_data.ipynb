{
 "cells": [
  {
   "cell_type": "code",
   "execution_count": 1,
   "metadata": {},
   "outputs": [],
   "source": [
    "import pandas as pd\n",
    "import requests\n",
    "from bs4 import BeautifulSoup\n",
    "import re\n",
    "import json\n",
    "import datetime\n",
    "from dotenv import dotenv_values\n",
    "from neomodel import (config, db, StructuredNode, StructuredRel,StringProperty, IntegerProperty, UniqueIdProperty, DateProperty, DateTimeProperty,RelationshipTo, RelationshipFrom, Q, Traversal, OUTGOING, INCOMING, EITHER)\n"
   ]
  },
  {
   "cell_type": "code",
   "execution_count": null,
   "metadata": {},
   "outputs": [],
   "source": [
    "#Argh not working, do not resolve the .env file path in models.py\n",
    "import sys\n",
    "sys.path.append('../modules')\n",
    "import models as models"
   ]
  },
  {
   "cell_type": "code",
   "execution_count": 3,
   "metadata": {},
   "outputs": [],
   "source": [
    "env = dotenv_values(\"../.env\")\n",
    "#-----Neo4j database----- #\n",
    "config.DATABASE_URL = env[\"NEO4J_BOLT_URL\"]\n",
    "\n",
    "class SubclassRelationship(StructuredRel):\n",
    "    \"\"\"\n",
    "    A very simple relationship between two BasePersons that simply\n",
    "    records the date at which an acquaintance was established.\n",
    "    \"\"\"\n",
    "    on_date = DateProperty(default = datetime.datetime.now)\n",
    "\n",
    "class SameasRelationship(StructuredRel):\n",
    "    \"\"\"\n",
    "    A very simple relationship between two BasePersons that simply\n",
    "    records the date at which an acquaintance was established.\n",
    "    \"\"\"\n",
    "    on_date = DateProperty(default = datetime.datetime.now)\n",
    "\n",
    "class DeweyDomain(StructuredNode):\n",
    "    id = UniqueIdProperty()\n",
    "    meta_id = IntegerProperty(unique_index=True,required=True)\n",
    "    classe =  StringProperty(unique_index=True,required=True)\n",
    "    name = StringProperty(unique_index=True,required=True)\n",
    "    dewey_has_subclass = RelationshipTo(\"DeweyDomain\", \"HAS_SUBCLASS\", model = SubclassRelationship)\n",
    "    dewey_sameas_hal = RelationshipFrom(\"HalDomain\", \"SAME_AS\", model = SameasRelationship)\n",
    "    dewey_sameas_bso = RelationshipFrom(\"BsoDomain\", \"SAME_AS\", model = SameasRelationship)\n",
    "    def to_json(self):\n",
    "        return {\n",
    "        \"id\": self.meta_id,\n",
    "        \"meta_id\": self.meta_id,\n",
    "        \"classe\": self.classe,\n",
    "        \"name\": self.name,\n",
    "        \"group\": \"dewey\"\n",
    "      }\n",
    "    def post_save(self):\n",
    "        \"\"\"\n",
    "        The hook methods pre_save and post_save are available on StructuredRel models. They are executed when calling save on the object directly or when creating a new relationship via connect.\n",
    "        \"\"\"\n",
    "        print(self)\n",
    "\n",
    "dewey_all_definition = dict(node_class=DeweyDomain, direction=EITHER,\n",
    "                  relation_type=None, model=None)\n",
    "dewey_sub_definition = dict(node_class=DeweyDomain, direction=OUTGOING,\n",
    "                  relation_type='HAS_SUBCLASS', model=SubclassRelationship)\n",
    "dewey_sameas_definition = dict(node_class=DeweyDomain, direction=INCOMING,\n",
    "                  relation_type='SAME_AS', model=SameasRelationship)\n",
    "\n",
    "class BsoDomain(StructuredNode):\n",
    "    id = UniqueIdProperty()\n",
    "    meta_id = IntegerProperty(unique_index=True,required=True)\n",
    "    name = StringProperty(unique_index=True,required=True)\n",
    "    bso_sameas_dewey = RelationshipTo(\"DeweyDomain\", \"SAME_AS\", model = SameasRelationship)\n",
    "    def to_json(self):\n",
    "        return {\n",
    "        \"id\": self.id,\n",
    "        \"meta_id\": self.meta_id,\n",
    "        \"name\": self.name,\n",
    "        \"group\": \"hal\"\n",
    "      }\n",
    "\n",
    "class HalDomain(StructuredNode):\n",
    "    id = UniqueIdProperty()\n",
    "    meta_id = IntegerProperty(unique_index=True,required=True)\n",
    "    docid = StringProperty(unique_index=True,required=True)\n",
    "    name = StringProperty(unique_index=True,required=True)\n",
    "    code = StringProperty(unique_index=True,required=True)\n",
    "    level = IntegerProperty(index=True,required=True)\n",
    "    parent_id = IntegerProperty(index=True)\n",
    "    hal_has_subclass = RelationshipTo(\"HalDomain\", \"HAS_SUBCLASS\", model = SubclassRelationship)\n",
    "    hal_sameas_dewey = RelationshipTo(\"DeweyDomain\", \"SAME_AS\", model = SameasRelationship)\n",
    "    def to_json(self):\n",
    "        return {\n",
    "        \"id\": self.id,\n",
    "        \"meta_id\": self.meta_id,\n",
    "        \"docid\": self.docid,\n",
    "        \"name\": self.name,\n",
    "        \"code\": self.code,\n",
    "        \"level\": self.level,\n",
    "        \"parent_id\": self.parent_id,\n",
    "        \"group\": \"bso\"\n",
    "      }\n",
    "\n",
    "hal_all_definition = dict(node_class=HalDomain, direction=EITHER,\n",
    "                  relation_type=None, model=None)\n",
    "hal_sub_definition = dict(node_class=HalDomain, direction=OUTGOING,\n",
    "                  relation_type='HAS_SUBCLASS', model=SubclassRelationship)\n",
    "hal_sameas_definition = dict(node_class=HalDomain, direction=OUTGOING,\n",
    "                  relation_type='SAME_AS', model=SameasRelationship)"
   ]
  },
  {
   "cell_type": "markdown",
   "metadata": {},
   "source": [
    "# Fonctions de récupération des données des 3 référentiels Dewey, Hal et BSO"
   ]
  },
  {
   "cell_type": "markdown",
   "metadata": {},
   "source": [
    "## Dewey"
   ]
  },
  {
   "cell_type": "markdown",
   "metadata": {},
   "source": [
    "### Source temporaire thèses Abes (Dewey partielle)"
   ]
  },
  {
   "cell_type": "code",
   "execution_count": null,
   "metadata": {},
   "outputs": [],
   "source": [
    "def  scrapping_oai_sets_dewey():\n",
    "    url = \"https://www.theses.fr/schemas/tef/recommandation/oai_sets.html\"\n",
    "    resp = requests.get(url).text  # ou f = http.request('GET', url).data\n",
    "    soup = BeautifulSoup(resp, features=\"lxml\")\n",
    "    oai_list = []\n",
    "    for row in soup.findAll(\"table\")[0].findAll(\"tr\"):\n",
    "        label = re.sub('<!--.*-->|\\r|\\n', '', str(row.findAll(\"td\")[0].get_text(strip=True)), flags=re.DOTALL)\n",
    "        label = re.sub('\\s{2,}|&nbsp;', ' ', label)\n",
    "        oai_list.append(\n",
    "            {\n",
    "                \"label\": label,\n",
    "                \"code\": row.findAll(\"td\")[1].get_text(strip=True),\n",
    "            }\n",
    "        )\n",
    "    df = pd.DataFrame(oai_list[1:])\n",
    "    df.to_csv(\"data/dewey.csv\", sep=\",\", index=False, encoding='utf8')\n",
    "\n",
    "scrapping_oai_sets_dewey()"
   ]
  },
  {
   "cell_type": "markdown",
   "metadata": {},
   "source": [
    "### Source Hal"
   ]
  },
  {
   "cell_type": "code",
   "execution_count": null,
   "metadata": {},
   "outputs": [],
   "source": [
    "def get_hal_domains():\n",
    "    \"\"\"\n",
    "    \n",
    "    \"\"\"\n",
    "    url = 'http://api.archives-ouvertes.fr/ref/domain/?q=*:*'\n",
    "    params = {'fl': 'docid,code_s,level_i,parent_i,label_s','rows': 400}\n",
    "    resp = requests.get(url,params=params).text\n",
    "    result = []\n",
    "    if json.loads(resp)['response']['docs']:\n",
    "        data = json.loads(resp)['response']['docs']\n",
    "        for node in data:\n",
    "            if not('parent_i' in node):\n",
    "                parent_id = 0\n",
    "            else:\n",
    "                parent_id = node['parent_i']\n",
    "            print(node)\n",
    "            result.append({\"docid\": node['docid'], \"level\": node['level_i'],\"parent_id\": parent_id, \"code\": node['code_s'], \"label\": node['label_s']})\n",
    "    else:\n",
    "        pass\n",
    "    # dedup in case of duplicate relatioships\n",
    "    df = pd.DataFrame(result)\n",
    "    df.to_csv(\"data/hal_domains.csv\", sep=\",\", index=False, encoding='utf8')\n",
    "\n",
    "get_hal_domains()"
   ]
  },
  {
   "cell_type": "markdown",
   "metadata": {},
   "source": [
    "### Source BSO"
   ]
  },
  {
   "cell_type": "markdown",
   "metadata": {},
   "source": [
    "Harvest done in a Colab Notebook [https://colab.research.google.com/drive/1uwS7CVt8pUhq8be-QpVS2qSE8s5YaZSA](https://colab.research.google.com/drive/1uwS7CVt8pUhq8be-QpVS2qSE8s5YaZSA).\n",
    "\n",
    "The resulting bso_classification categories are manually reported in a dict :"
   ]
  },
  {
   "cell_type": "code",
   "execution_count": 7,
   "metadata": {},
   "outputs": [],
   "source": [
    "dict_bso_classification = [{'label': 'Medical research'},{'label': 'Biology (fond.)'},{'label': 'Social sciences'},{'label': 'Earth, Ecology, Energy and applied biology'},\n",
    "                           {'label': 'Chemistry'},{'label': 'Physical sciences, Astronomy'},{'label': 'Computer and information sciences'},{'label': 'Humanities'},{'label': 'Engineering'},{'label': 'Mathematics'}]"
   ]
  },
  {
   "cell_type": "markdown",
   "metadata": {},
   "source": [
    "# Populate the db with Dewey classes"
   ]
  },
  {
   "cell_type": "markdown",
   "metadata": {},
   "source": [
    "## Dewey Referentiel data"
   ]
  },
  {
   "cell_type": "markdown",
   "metadata": {},
   "source": [
    "### Load data"
   ]
  },
  {
   "cell_type": "code",
   "execution_count": null,
   "metadata": {},
   "outputs": [],
   "source": [
    "dict_dewey = pd.read_csv(\"data/dewey.csv\",sep=\",\",encoding=\"utf-8\").to_dict(orient='records')\n",
    "main_classes = ['000','100','200','300','400','500','600','700','800','900']\n"
   ]
  },
  {
   "cell_type": "markdown",
   "metadata": {},
   "source": [
    "### Create nodes"
   ]
  },
  {
   "cell_type": "code",
   "execution_count": null,
   "metadata": {},
   "outputs": [],
   "source": [
    "for rows in dict_dewey:\n",
    "    DeweyDomain(classe=rows['code'][4:7], name=rows['label']).save()\n"
   ]
  },
  {
   "cell_type": "code",
   "execution_count": 12,
   "metadata": {},
   "outputs": [
    {
     "data": {
      "text/plain": [
       "True"
      ]
     },
     "execution_count": 12,
     "metadata": {},
     "output_type": "execute_result"
    }
   ],
   "source": [
    "#potential resdual node with column names\n",
    "#node_to_del = st.DeweyDomain.nodes.get(classe='')\n",
    "#node_to_del.delete()"
   ]
  },
  {
   "cell_type": "markdown",
   "metadata": {},
   "source": [
    "### Create subclass relationships"
   ]
  },
  {
   "cell_type": "code",
   "execution_count": 14,
   "metadata": {},
   "outputs": [
    {
     "data": {
      "text/plain": [
       "\" if rows['code'][4:7] in main_classes:\\n        print(rows['label'])\\n        main_c = DeweyDomain(classe=rows['code'][4:7], name=rows['label']).save()\\n    else:\\n        sub_c = DeweyDomain(classe=rows['code'][4:7], name=rows['label']).save()\""
      ]
     },
     "execution_count": 14,
     "metadata": {},
     "output_type": "execute_result"
    }
   ],
   "source": [
    "for c in main_classes:\n",
    "    main = DeweyDomain.nodes.get(classe=c)\n",
    "    sub = DeweyDomain.nodes.filter(Q(classe__startswith = main.classe[0:1]), Q(classe__ne = main.classe))\n",
    "    for x in sub:\n",
    "        main.dewey_has_subclass.connect(x)\n"
   ]
  },
  {
   "cell_type": "markdown",
   "metadata": {},
   "source": [
    "## Hal referentiel data"
   ]
  },
  {
   "cell_type": "markdown",
   "metadata": {},
   "source": [
    "### Load data"
   ]
  },
  {
   "cell_type": "code",
   "execution_count": null,
   "metadata": {},
   "outputs": [],
   "source": [
    "dict_hal = pd.read_csv(\"data/hal_domains.csv\",sep=\",\",encoding=\"utf-8\").to_dict(orient='records')\n"
   ]
  },
  {
   "cell_type": "markdown",
   "metadata": {},
   "source": [
    "### Create nodes"
   ]
  },
  {
   "cell_type": "code",
   "execution_count": null,
   "metadata": {},
   "outputs": [],
   "source": [
    "for rows in dict_hal:\n",
    "    HalDomain(docid=rows['docid'], name=rows['label'].split(\"=\")[1],code=rows['code'],level=rows[\"level\"],parent_id=rows['parent_id']).save()"
   ]
  },
  {
   "cell_type": "markdown",
   "metadata": {},
   "source": [
    "### Create relationships"
   ]
  },
  {
   "cell_type": "code",
   "execution_count": 5,
   "metadata": {},
   "outputs": [],
   "source": [
    "sub_levels_all = HalDomain.nodes.filter(level__ne=0)\n",
    "for x in sub_levels_all:\n",
    "    current_level =  HalDomain.nodes.get(docid=x.docid)\n",
    "    top_level = HalDomain.nodes.get(docid=x.parent_id)\n",
    "    top_level.hal_has_subclass.connect(current_level)"
   ]
  },
  {
   "cell_type": "markdown",
   "metadata": {},
   "source": [
    "## BSO referentiel"
   ]
  },
  {
   "cell_type": "code",
   "execution_count": 8,
   "metadata": {},
   "outputs": [],
   "source": [
    "for rows in dict_bso_classification:\n",
    "    BsoDomain(name=rows['label']).save()\n",
    "    "
   ]
  },
  {
   "cell_type": "markdown",
   "metadata": {},
   "source": [
    "## Add a meta_id to every node to be requested bu the neomodel libraries's methods"
   ]
  },
  {
   "cell_type": "code",
   "execution_count": null,
   "metadata": {},
   "outputs": [],
   "source": [
    "Z = db.cypher_query(\"match (n) set n.meta_id = id(n) return n\")"
   ]
  },
  {
   "cell_type": "markdown",
   "metadata": {},
   "source": [
    " # Resulting graph"
   ]
  },
  {
   "cell_type": "markdown",
   "metadata": {},
   "source": [
    "![\"neo4j_screenshot\"](../static/img/neo4j_screenshot.png)"
   ]
  },
  {
   "cell_type": "markdown",
   "metadata": {},
   "source": [
    "# Graph request examples"
   ]
  },
  {
   "cell_type": "markdown",
   "metadata": {},
   "source": [
    "## Get a specific node by id"
   ]
  },
  {
   "cell_type": "code",
   "execution_count": 4,
   "metadata": {},
   "outputs": [
    {
     "data": {
      "text/plain": [
       "<DeweyDomain: {'id': 5, 'meta_id': 5, 'classe': '070', 'name': \"Médias d'information, journalisme, édition\"}>"
      ]
     },
     "execution_count": 4,
     "metadata": {},
     "output_type": "execute_result"
    }
   ],
   "source": [
    "dewey_node = DeweyDomain.nodes.get(meta_id=5)\n",
    "dewey_node"
   ]
  },
  {
   "cell_type": "markdown",
   "metadata": {},
   "source": [
    "## Traversal HAS_SUBCLASS from dewey nodes"
   ]
  },
  {
   "cell_type": "code",
   "execution_count": null,
   "metadata": {},
   "outputs": [],
   "source": [
    "dewey_sub_definition = dict(node_class=DeweyDomain, direction=OUTGOING,\n",
    "                  relation_type='HAS_SUBCLASS', model=SubclassRelationship)"
   ]
  },
  {
   "cell_type": "markdown",
   "metadata": {},
   "source": [
    "### Starting from a specific node"
   ]
  },
  {
   "cell_type": "code",
   "execution_count": 4,
   "metadata": {},
   "outputs": [
    {
     "name": "stdout",
     "output_type": "stream",
     "text": [
      "[<DeweyDomain: {'id': 77, 'meta_id': 77, 'classe': '796', 'name': 'Sport'}>, <DeweyDomain: {'id': 76, 'meta_id': 76, 'classe': '790', 'name': 'Arts du spectacle, loisirs'}>, <DeweyDomain: {'id': 75, 'meta_id': 75, 'classe': '780', 'name': 'Musique'}>, <DeweyDomain: {'id': 74, 'meta_id': 74, 'classe': '770', 'name': 'Photographie et les photographies, art numérique'}>, <DeweyDomain: {'id': 73, 'meta_id': 73, 'classe': '760', 'name': 'Arts graphiques'}>, <DeweyDomain: {'id': 72, 'meta_id': 72, 'classe': '750', 'name': 'Peinture'}>, <DeweyDomain: {'id': 71, 'meta_id': 71, 'classe': '740', 'name': 'Dessin. Arts décoratifs'}>, <DeweyDomain: {'id': 70, 'meta_id': 70, 'classe': '730', 'name': 'Arts plastiques. Sculpture'}>, <DeweyDomain: {'id': 69, 'meta_id': 69, 'classe': '720', 'name': 'Architecture'}>, <DeweyDomain: {'id': 68, 'meta_id': 68, 'classe': '710', 'name': 'Urbanisme'}>]\n"
     ]
    }
   ],
   "source": [
    "dewey_node_700 = DeweyDomain.nodes.get(classe=700)\n",
    "relations_traversal = Traversal(dewey_node_700, DeweyDomain.__label__,\n",
    "                                dewey_sub_definition)\n",
    "all_700_relations = relations_traversal.all()\n",
    "print(all_700_relations)"
   ]
  },
  {
   "cell_type": "code",
   "execution_count": 13,
   "metadata": {},
   "outputs": [
    {
     "name": "stdout",
     "output_type": "stream",
     "text": [
      "[<DeweyDomain: {'id': 4, 'meta_id': 4, 'classe': '060', 'name': 'Organisations générales et muséologie'}>]\n"
     ]
    }
   ],
   "source": [
    "hal_node_108 = HalDomain.nodes.get(meta_id=108)\n",
    "print(hal_node_108.hal_sameas_dewey.all())"
   ]
  },
  {
   "cell_type": "markdown",
   "metadata": {},
   "source": [
    "### Retrieve all subgraph"
   ]
  },
  {
   "cell_type": "code",
   "execution_count": null,
   "metadata": {},
   "outputs": [],
   "source": [
    "all_dewey_nodes = DeweyDomain.nodes.all()\n",
    "for x in all_dewey_nodes:\n",
    "    relations_traversal = Traversal(x, DeweyDomain.__label__,\n",
    "                                dewey_all_definition) \n",
    "    if relations_traversal:\n",
    "        print(x,relations_traversal.all())  "
   ]
  },
  {
   "cell_type": "code",
   "execution_count": null,
   "metadata": {},
   "outputs": [],
   "source": [
    "all_hal_nodes = HalDomain.nodes.all()\n",
    "for x in all_hal_nodes:\n",
    "    relations_traversal = Traversal(x, HalDomain.__label__,\n",
    "                                hal_all_definition) \n",
    "    if relations_traversal:\n",
    "        print(x,relations_traversal.all()) "
   ]
  }
 ],
 "metadata": {
  "interpreter": {
   "hash": "de5f18143760dddb8a620c28ec28c10561ed4123aa4da0faeb450b395d82ec6e"
  },
  "kernelspec": {
   "display_name": "Python 3.7.4 ('base')",
   "language": "python",
   "name": "python3"
  },
  "language_info": {
   "codemirror_mode": {
    "name": "ipython",
    "version": 3
   },
   "file_extension": ".py",
   "mimetype": "text/x-python",
   "name": "python",
   "nbconvert_exporter": "python",
   "pygments_lexer": "ipython3",
   "version": "3.7.4"
  },
  "orig_nbformat": 4
 },
 "nbformat": 4,
 "nbformat_minor": 2
}
